{
 "cells": [
  {
   "cell_type": "code",
   "execution_count": 14,
   "metadata": {},
   "outputs": [],
   "source": [
    "import pandas as pd\n",
    "import os \n",
    "from google.cloud import storage\n",
    "import pandas_gbq\n",
    "import requests\n",
    "from io import BytesIO, StringIO\n",
    "import urllib.request\n",
    "import gzip"
   ]
  },
  {
   "cell_type": "code",
   "execution_count": null,
   "metadata": {},
   "outputs": [
    {
     "name": "stdout",
     "output_type": "stream",
     "text": [
      "📥 Downloading https://github.com/DataTalksClub/nyc-tlc-data/releases/download/yellow/yellow_tripdata_2020-01.csv.gz...\n"
     ]
    },
    {
     "name": "stderr",
     "output_type": "stream",
     "text": [
      "C:\\Users\\rimsh\\AppData\\Local\\Temp\\ipykernel_6432\\1203736554.py:48: DtypeWarning: Columns (6) have mixed types. Specify dtype option on import or set low_memory=False.\n",
      "  df = pd.read_csv(f)\n"
     ]
    },
    {
     "name": "stdout",
     "output_type": "stream",
     "text": [
      "✅ Uploaded to GCS: gs://rimsha-kestra/yellow/2020/yellow_tripdata_2020-01.csv\n",
      "📥 Downloading https://github.com/DataTalksClub/nyc-tlc-data/releases/download/yellow/yellow_tripdata_2020-02.csv.gz...\n"
     ]
    },
    {
     "name": "stderr",
     "output_type": "stream",
     "text": [
      "C:\\Users\\rimsh\\AppData\\Local\\Temp\\ipykernel_6432\\1203736554.py:48: DtypeWarning: Columns (6) have mixed types. Specify dtype option on import or set low_memory=False.\n",
      "  df = pd.read_csv(f)\n"
     ]
    },
    {
     "name": "stdout",
     "output_type": "stream",
     "text": [
      "✅ Uploaded to GCS: gs://rimsha-kestra/yellow/2020/yellow_tripdata_2020-02.csv\n",
      "📥 Downloading https://github.com/DataTalksClub/nyc-tlc-data/releases/download/yellow/yellow_tripdata_2020-03.csv.gz...\n"
     ]
    },
    {
     "name": "stderr",
     "output_type": "stream",
     "text": [
      "C:\\Users\\rimsh\\AppData\\Local\\Temp\\ipykernel_6432\\1203736554.py:48: DtypeWarning: Columns (6) have mixed types. Specify dtype option on import or set low_memory=False.\n",
      "  df = pd.read_csv(f)\n"
     ]
    },
    {
     "name": "stdout",
     "output_type": "stream",
     "text": [
      "✅ Uploaded to GCS: gs://rimsha-kestra/yellow/2020/yellow_tripdata_2020-03.csv\n",
      "📥 Downloading https://github.com/DataTalksClub/nyc-tlc-data/releases/download/yellow/yellow_tripdata_2020-04.csv.gz...\n"
     ]
    },
    {
     "name": "stderr",
     "output_type": "stream",
     "text": [
      "C:\\Users\\rimsh\\AppData\\Local\\Temp\\ipykernel_6432\\1203736554.py:48: DtypeWarning: Columns (6) have mixed types. Specify dtype option on import or set low_memory=False.\n",
      "  df = pd.read_csv(f)\n"
     ]
    },
    {
     "name": "stdout",
     "output_type": "stream",
     "text": [
      "✅ Uploaded to GCS: gs://rimsha-kestra/yellow/2020/yellow_tripdata_2020-04.csv\n",
      "📥 Downloading https://github.com/DataTalksClub/nyc-tlc-data/releases/download/yellow/yellow_tripdata_2020-05.csv.gz...\n"
     ]
    },
    {
     "name": "stderr",
     "output_type": "stream",
     "text": [
      "C:\\Users\\rimsh\\AppData\\Local\\Temp\\ipykernel_6432\\1203736554.py:48: DtypeWarning: Columns (6) have mixed types. Specify dtype option on import or set low_memory=False.\n",
      "  df = pd.read_csv(f)\n"
     ]
    },
    {
     "name": "stdout",
     "output_type": "stream",
     "text": [
      "✅ Uploaded to GCS: gs://rimsha-kestra/yellow/2020/yellow_tripdata_2020-05.csv\n",
      "📥 Downloading https://github.com/DataTalksClub/nyc-tlc-data/releases/download/yellow/yellow_tripdata_2020-06.csv.gz...\n"
     ]
    },
    {
     "name": "stderr",
     "output_type": "stream",
     "text": [
      "C:\\Users\\rimsh\\AppData\\Local\\Temp\\ipykernel_6432\\1203736554.py:48: DtypeWarning: Columns (6) have mixed types. Specify dtype option on import or set low_memory=False.\n",
      "  df = pd.read_csv(f)\n"
     ]
    },
    {
     "name": "stdout",
     "output_type": "stream",
     "text": [
      "✅ Uploaded to GCS: gs://rimsha-kestra/yellow/2020/yellow_tripdata_2020-06.csv\n",
      "📥 Downloading https://github.com/DataTalksClub/nyc-tlc-data/releases/download/yellow/yellow_tripdata_2020-07.csv.gz...\n"
     ]
    },
    {
     "name": "stderr",
     "output_type": "stream",
     "text": [
      "C:\\Users\\rimsh\\AppData\\Local\\Temp\\ipykernel_6432\\1203736554.py:48: DtypeWarning: Columns (6) have mixed types. Specify dtype option on import or set low_memory=False.\n",
      "  df = pd.read_csv(f)\n"
     ]
    },
    {
     "name": "stdout",
     "output_type": "stream",
     "text": [
      "✅ Uploaded to GCS: gs://rimsha-kestra/yellow/2020/yellow_tripdata_2020-07.csv\n",
      "📥 Downloading https://github.com/DataTalksClub/nyc-tlc-data/releases/download/yellow/yellow_tripdata_2020-08.csv.gz...\n"
     ]
    },
    {
     "name": "stderr",
     "output_type": "stream",
     "text": [
      "C:\\Users\\rimsh\\AppData\\Local\\Temp\\ipykernel_6432\\1203736554.py:48: DtypeWarning: Columns (6) have mixed types. Specify dtype option on import or set low_memory=False.\n",
      "  df = pd.read_csv(f)\n"
     ]
    },
    {
     "name": "stdout",
     "output_type": "stream",
     "text": [
      "✅ Uploaded to GCS: gs://rimsha-kestra/yellow/2020/yellow_tripdata_2020-08.csv\n",
      "📥 Downloading https://github.com/DataTalksClub/nyc-tlc-data/releases/download/yellow/yellow_tripdata_2020-09.csv.gz...\n"
     ]
    },
    {
     "name": "stderr",
     "output_type": "stream",
     "text": [
      "C:\\Users\\rimsh\\AppData\\Local\\Temp\\ipykernel_6432\\1203736554.py:48: DtypeWarning: Columns (6) have mixed types. Specify dtype option on import or set low_memory=False.\n",
      "  df = pd.read_csv(f)\n"
     ]
    },
    {
     "name": "stdout",
     "output_type": "stream",
     "text": [
      "✅ Uploaded to GCS: gs://rimsha-kestra/yellow/2020/yellow_tripdata_2020-09.csv\n",
      "📥 Downloading https://github.com/DataTalksClub/nyc-tlc-data/releases/download/yellow/yellow_tripdata_2020-10.csv.gz...\n"
     ]
    },
    {
     "name": "stderr",
     "output_type": "stream",
     "text": [
      "C:\\Users\\rimsh\\AppData\\Local\\Temp\\ipykernel_6432\\1203736554.py:48: DtypeWarning: Columns (6) have mixed types. Specify dtype option on import or set low_memory=False.\n",
      "  df = pd.read_csv(f)\n"
     ]
    },
    {
     "name": "stdout",
     "output_type": "stream",
     "text": [
      "✅ Uploaded to GCS: gs://rimsha-kestra/yellow/2020/yellow_tripdata_2020-10.csv\n",
      "📥 Downloading https://github.com/DataTalksClub/nyc-tlc-data/releases/download/yellow/yellow_tripdata_2020-11.csv.gz...\n"
     ]
    },
    {
     "name": "stderr",
     "output_type": "stream",
     "text": [
      "C:\\Users\\rimsh\\AppData\\Local\\Temp\\ipykernel_6432\\1203736554.py:48: DtypeWarning: Columns (6) have mixed types. Specify dtype option on import or set low_memory=False.\n",
      "  df = pd.read_csv(f)\n"
     ]
    },
    {
     "name": "stdout",
     "output_type": "stream",
     "text": [
      "✅ Uploaded to GCS: gs://rimsha-kestra/yellow/2020/yellow_tripdata_2020-11.csv\n",
      "📥 Downloading https://github.com/DataTalksClub/nyc-tlc-data/releases/download/yellow/yellow_tripdata_2020-12.csv.gz...\n"
     ]
    },
    {
     "name": "stderr",
     "output_type": "stream",
     "text": [
      "C:\\Users\\rimsh\\AppData\\Local\\Temp\\ipykernel_6432\\1203736554.py:48: DtypeWarning: Columns (6) have mixed types. Specify dtype option on import or set low_memory=False.\n",
      "  df = pd.read_csv(f)\n"
     ]
    },
    {
     "name": "stdout",
     "output_type": "stream",
     "text": [
      "✅ Uploaded to GCS: gs://rimsha-kestra/yellow/2020/yellow_tripdata_2020-12.csv\n"
     ]
    }
   ],
   "source": [
    "\n",
    "# Set Google Application Credentials\n",
    "os.environ[\"GOOGLE_APPLICATION_CREDENTIALS\"] = \"../../keys/zoomcamp-sa.json\"\n",
    "\n",
    "# GCP Details\n",
    "project_id = \"coral-velocity-451115-d9\"\n",
    "bucket_name = \"rimsha-kestra\"\n",
    "\n",
    "# Base URL for GitHub releases (corrected)\n",
    "base_url = \"https://github.com/DataTalksClub/nyc-tlc-data/releases/download\"\n",
    "\n",
    "# Define years and taxi types\n",
    "years = [\"2019\", \"2020\"]\n",
    "taxi_types = {\n",
    "    \"green\": \"green\",\n",
    "    \"yellow\": \"yellow\"\n",
    "}\n",
    "\n",
    "# Initialize GCS client\n",
    "storage_client = storage.Client()\n",
    "\n",
    "def upload_to_gcs(bucket_name, destination_blob_name, file_content):\n",
    "    \"\"\"Uploads file content to GCS directly from memory.\"\"\"\n",
    "    bucket = storage_client.bucket(bucket_name)\n",
    "    blob = bucket.blob(destination_blob_name)\n",
    "    \n",
    "    blob.upload_from_string(file_content.getvalue(), content_type=\"text/csv\")\n",
    "    \n",
    "    print(f\"Uploaded to GCS: gs://{bucket_name}/{destination_blob_name}\")\n",
    "\n",
    "# Function to process .csv.gz files and upload as .csv\n",
    "def process_and_upload(year, taxi_type, github_tag):\n",
    "    # for yellow and green tables -- for fhv set taxi_type and github_tag as both \"fhv\"\n",
    "    file_name_template = f\"{taxi_type}_tripdata_{year}-{{month}}.csv.gz\" \n",
    "\n",
    "    for month in range(1, 13):  # Loop through all months\n",
    "        month_str = f\"{month:02d}\"  # Format as \"01\", \"02\", ..., \"12\"\n",
    "        file_name = file_name_template.format(month=month_str)\n",
    "        file_url = f\"{base_url}/{github_tag}/{file_name}\"  # Corrected download URL\n",
    "        \n",
    "        print(f\"Downloading {file_url}...\")\n",
    "\n",
    "        try:\n",
    "            # Download the .csv.gz file in memory\n",
    "            with urllib.request.urlopen(file_url) as response:\n",
    "                compressed_file = BytesIO(response.read())\n",
    "\n",
    "            # Read the gzip file into a Pandas DataFrame\n",
    "            with gzip.GzipFile(fileobj=compressed_file, mode=\"rb\") as f:\n",
    "                df = pd.read_csv(f)\n",
    "\n",
    "            # Convert DataFrame to CSV in memory (without index)\n",
    "            csv_buffer = StringIO()\n",
    "            df.to_csv(csv_buffer, index=False)\n",
    "\n",
    "            # Convert to BytesIO for GCS upload\n",
    "            csv_bytes = BytesIO(csv_buffer.getvalue().encode(\"utf-8\"))\n",
    "\n",
    "            # Define GCS file path (without .gz)\n",
    "            gcs_file_path = f\"{taxi_type}/{year}/{taxi_type}_tripdata_{year}-{month_str}.csv\"\n",
    "            \n",
    "            # Upload to GCS\n",
    "            upload_to_gcs(bucket_name, gcs_file_path, csv_bytes)\n",
    "\n",
    "        except urllib.error.HTTPError as e:\n",
    "            print(f\"Failed to download {file_url} - HTTPError: {e.code}\")\n",
    "        except urllib.error.URLError as e:\n",
    "            print(f\"Failed to download {file_url} - URLError: {e.reason}\")\n",
    "        except Exception as e:\n",
    "            print(f\"Error processing {file_url}: {str(e)}\")\n",
    "\n",
    "# Run for all years and taxi types\n",
    "\"\"\"for taxi_type, github_tag in taxi_types.items():\n",
    "    for year in years:\n",
    "        process_and_upload(year, taxi_type, github_tag)\"\"\"\n",
    "\n",
    "\n",
    "process_and_upload(2020, \"yellow\", \"yellow\")\n",
    "\n"
   ]
  },
  {
   "cell_type": "code",
   "execution_count": null,
   "metadata": {},
   "outputs": [],
   "source": []
  }
 ],
 "metadata": {
  "kernelspec": {
   "display_name": "base",
   "language": "python",
   "name": "python3"
  },
  "language_info": {
   "codemirror_mode": {
    "name": "ipython",
    "version": 3
   },
   "file_extension": ".py",
   "mimetype": "text/x-python",
   "name": "python",
   "nbconvert_exporter": "python",
   "pygments_lexer": "ipython3",
   "version": "3.12.7"
  }
 },
 "nbformat": 4,
 "nbformat_minor": 2
}
